{
 "cells": [
  {
   "cell_type": "markdown",
   "id": "6f55915f",
   "metadata": {},
   "source": [
    "# Case-Study Title: Customers RFM Clustering (Market Segmentation based on Behavioral Approach)\n",
    "###### Data Analysis methodology: CRISP-DM\n",
    "###### Dataset: Iranian online e-commerce platform's customers transactions data in first 4 months of year 1398 (from 1398/01/01 to 1398/04/31)\n",
    "###### Case Goal: Detect and Segment similar customers of e-commerce platform business (Customer Segmentation using RFM model)"
   ]
  },
  {
   "cell_type": "markdown",
   "id": "1fd633e2",
   "metadata": {},
   "source": [
    "# Required Libraries"
   ]
  },
  {
   "cell_type": "code",
   "execution_count": null,
   "id": "163c6be5",
   "metadata": {},
   "outputs": [],
   "source": [
    "import numpy as np\n",
    "import pandas as pd\n",
    "import matplotlib.pyplot as plt\n",
    "import seaborn as sns"
   ]
  },
  {
   "cell_type": "code",
   "execution_count": null,
   "id": "641b8635",
   "metadata": {},
   "outputs": [],
   "source": [
    "pd.set_option('display.max_rows', None)\n",
    "pd.set_option('display.max_columns', None)\n",
    "pd.set_option('display.width', 2000)\n",
    "pd.set_option('display.max_colwidth', None)"
   ]
  },
  {
   "cell_type": "markdown",
   "id": "b0143483",
   "metadata": {},
   "source": [
    "# Read Data from File"
   ]
  },
  {
   "cell_type": "code",
   "execution_count": null,
   "id": "86081487",
   "metadata": {},
   "outputs": [],
   "source": [
    "data = pd.read_csv('CS_04.csv')"
   ]
  },
  {
   "cell_type": "code",
   "execution_count": null,
   "id": "81bcbec9",
   "metadata": {},
   "outputs": [],
   "source": [
    "data.shape  # 40537 records, 5 variables"
   ]
  },
  {
   "cell_type": "markdown",
   "id": "3f5a3112",
   "metadata": {},
   "source": [
    "# Business Understanding\n",
    " * know business process and issues\n",
    " * know the context of the problem\n",
    " * know the order of numbers in the business"
   ]
  },
  {
   "cell_type": "markdown",
   "id": "6e96e44b",
   "metadata": {},
   "source": [
    "# Data Understanding\n",
    "## Data Inspection (Data Understanding from Free Perspective)\n",
    "### Dataset variables definition"
   ]
  },
  {
   "cell_type": "code",
   "execution_count": null,
   "id": "95c3489f",
   "metadata": {},
   "outputs": [],
   "source": [
    "data.columns"
   ]
  },
  {
   "cell_type": "markdown",
   "id": "237ea22e",
   "metadata": {},
   "source": [
    "* **order_id**:        ID of customer's order (Transaction unique ID)\n",
    "* **created_ts**:      Date of ordering in EN (date of Transaction)\n",
    "* **shamsy_date**:     Date of ordering in FA (Jalali date)\n",
    "* **customer_id**:     ID of customer\n",
    "* **total_purchase**:  sum of purchase for ordering transaction (Transaction total payment Price in Rials)"
   ]
  },
  {
   "cell_type": "code",
   "execution_count": null,
   "id": "3f6c0e38",
   "metadata": {},
   "outputs": [],
   "source": [
    "type(data)"
   ]
  },
  {
   "cell_type": "code",
   "execution_count": null,
   "id": "f5c5d431",
   "metadata": {},
   "outputs": [],
   "source": [
    "data.head()"
   ]
  },
  {
   "cell_type": "code",
   "execution_count": null,
   "id": "7b0ad32e",
   "metadata": {},
   "outputs": [],
   "source": [
    "data.tail()"
   ]
  },
  {
   "cell_type": "code",
   "execution_count": null,
   "id": "f0ab4f24",
   "metadata": {},
   "outputs": [],
   "source": [
    "data.info()"
   ]
  },
  {
   "cell_type": "code",
   "execution_count": null,
   "id": "18c3ee05",
   "metadata": {},
   "outputs": [],
   "source": [
    "# Do we have any NA in our Variables?\n",
    "data.isna().sum()\n",
    "\n",
    "# We have no MV problem in this dataset"
   ]
  },
  {
   "cell_type": "code",
   "execution_count": null,
   "id": "bf87063a",
   "metadata": {},
   "outputs": [],
   "source": [
    "# Check for abnormality in data\n",
    "data.describe(include='all')"
   ]
  },
  {
   "cell_type": "markdown",
   "id": "0ec2c6e7",
   "metadata": {},
   "source": [
    "### Simple Timeseries Analysis"
   ]
  },
  {
   "cell_type": "code",
   "execution_count": null,
   "id": "6ae578d7",
   "metadata": {},
   "outputs": [],
   "source": [
    "# Plot Histogram of 'total_purchase'\n",
    "plt.hist(data['total_purchase'], color = 'green', bins = 50)\n",
    "plt.xlabel('Total Purchase/Rls')\n",
    "plt.ylabel('Frequency')"
   ]
  },
  {
   "cell_type": "code",
   "execution_count": null,
   "id": "5ba1a433",
   "metadata": {},
   "outputs": [],
   "source": [
    "data['created_ts'] = pd.to_datetime(data['created_ts'])  # change String to DateTime"
   ]
  },
  {
   "cell_type": "code",
   "execution_count": null,
   "id": "b47e3191",
   "metadata": {},
   "outputs": [],
   "source": [
    "data['date'] = data['created_ts'].dt.date  # extract Date part of DateTime"
   ]
  },
  {
   "cell_type": "code",
   "execution_count": null,
   "id": "c7a2184a",
   "metadata": {},
   "outputs": [],
   "source": [
    "# Calculate Daily Demand\n",
    "daily_demand = data.groupby(by=['date'])['order_id'].count()\n",
    "daily_demand_rials = data.groupby(by=['date'])['total_purchase'].sum()"
   ]
  },
  {
   "cell_type": "code",
   "execution_count": null,
   "id": "cafef506",
   "metadata": {},
   "outputs": [],
   "source": [
    "# Plot changes of Daily Demand during 4-months\n",
    "daily_demand.plot()\n",
    "plt.xticks(rotation = 90)"
   ]
  },
  {
   "cell_type": "markdown",
   "id": "09ca80f4",
   "metadata": {},
   "source": [
    "# Data PreProcessing\n",
    "## Create RFM Dataset"
   ]
  },
  {
   "cell_type": "markdown",
   "id": "4e3347b8",
   "metadata": {},
   "source": [
    "### Frequency\n",
    "each customer had how many purchases (how many purchase records) in Analysis time-range?"
   ]
  },
  {
   "cell_type": "code",
   "execution_count": null,
   "id": "1bf0cd7d",
   "metadata": {},
   "outputs": [],
   "source": [
    "customer_f = pd.DataFrame({'freq': data.groupby(['customer_id'])['order_id'].count()})\n",
    "customer_f"
   ]
  },
  {
   "cell_type": "code",
   "execution_count": null,
   "id": "0250f75d",
   "metadata": {},
   "outputs": [],
   "source": [
    "# Plot Histogram of frequency\n",
    "plt.hist(customer_f['freq'], color = 'green', bins = 50)\n",
    "plt.xlabel('Purchase Frequency')\n",
    "plt.ylabel('Frequency')"
   ]
  },
  {
   "cell_type": "code",
   "execution_count": null,
   "id": "aaf98136",
   "metadata": {},
   "outputs": [],
   "source": [
    "customer_f.describe()\n",
    "\n",
    "# the 'min' is 1: because this data is purchase data and everyone should have at-least 1 purchase to be in it!"
   ]
  },
  {
   "cell_type": "markdown",
   "id": "b30ab112",
   "metadata": {},
   "source": [
    "### Recency\n",
    "how long has it been since each customer's last purchase related-to Analysis date?"
   ]
  },
  {
   "cell_type": "code",
   "execution_count": null,
   "id": "d898a177",
   "metadata": {},
   "outputs": [],
   "source": [
    "data.tail(1)\n",
    "\n",
    "# our last data is for '2019-07-22' and so our reference point is '2019-07-23'\n",
    "# (we take the next day of the last day as the reference point to prevent having 0 in our Recency data)"
   ]
  },
  {
   "cell_type": "code",
   "execution_count": null,
   "id": "90e4b661",
   "metadata": {},
   "outputs": [],
   "source": [
    "# Calculate difference between reference-point Date and every order-record Date in days\n",
    "r_date = pd.to_datetime('2019-07-23').date() - data['date']\n",
    "\n",
    "r_date[0]  # the difference between '2019-07-23' and '2019-03-21' is 124 days"
   ]
  },
  {
   "cell_type": "code",
   "execution_count": null,
   "id": "9f680383",
   "metadata": {},
   "outputs": [],
   "source": [
    "data['r_date'] = r_date.dt.days  # extract days\n",
    "data.head()"
   ]
  },
  {
   "cell_type": "code",
   "execution_count": null,
   "id": "2ec70b12",
   "metadata": {},
   "outputs": [],
   "source": [
    "# Recency: find minimum 'r_date' for each 'customer_id'\n",
    "customer_r = pd.DataFrame({'recency': data.groupby(by = ['customer_id'])['r_date'].min()})\n",
    "customer_r  # how many days have passed since the last purchase relative to the reference point for each customer"
   ]
  },
  {
   "cell_type": "code",
   "execution_count": null,
   "id": "72fd7f16",
   "metadata": {},
   "outputs": [],
   "source": [
    "# Plot Histogram of recency\n",
    "plt.hist(customer_r['recency'], color = 'green', bins = 50)\n",
    "plt.xlabel('Recency')\n",
    "plt.ylabel('Frequency')"
   ]
  },
  {
   "cell_type": "code",
   "execution_count": null,
   "id": "298aaba8",
   "metadata": {},
   "outputs": [],
   "source": [
    "customer_r.describe()\n",
    "\n",
    "# 'min' is 1 because our reference point is '2019-07-23'\n",
    "# 'max' is 124 because our Analysis time-range is 4 months"
   ]
  },
  {
   "cell_type": "markdown",
   "id": "d700f3ed",
   "metadata": {},
   "source": [
    "### Monetary\n",
    "each customer had how much purchases in Analysis time-range?"
   ]
  },
  {
   "cell_type": "code",
   "execution_count": null,
   "id": "538ac184",
   "metadata": {},
   "outputs": [],
   "source": [
    "customer_m = pd.DataFrame({'monetary': data.groupby(by = data['customer_id'])['total_purchase'].sum()})\n",
    "customer_m"
   ]
  },
  {
   "cell_type": "code",
   "execution_count": null,
   "id": "0b1ff2a7",
   "metadata": {},
   "outputs": [],
   "source": [
    "# Plot Histogram of monetary\n",
    "plt.hist(customer_m['monetary'], color = 'green', bins = 50)\n",
    "plt.xlabel('Monetary')\n",
    "plt.ylabel('Frequency')"
   ]
  },
  {
   "cell_type": "code",
   "execution_count": null,
   "id": "747eefdb",
   "metadata": {},
   "outputs": [],
   "source": [
    "customer_m.describe()"
   ]
  },
  {
   "cell_type": "markdown",
   "id": "e1c6b303",
   "metadata": {},
   "source": [
    "### RFM Dataframe for Customers"
   ]
  },
  {
   "cell_type": "code",
   "execution_count": null,
   "id": "2b36cccb",
   "metadata": {},
   "outputs": [],
   "source": [
    "df = customer_f.merge(customer_r, left_index = True, right_index = True)\n",
    "df"
   ]
  },
  {
   "cell_type": "code",
   "execution_count": null,
   "id": "cb034c71",
   "metadata": {},
   "outputs": [],
   "source": [
    "rfm_customer = df.merge(customer_m, left_index = True, right_index = True)\n",
    "rfm_customer  # R, F, M for each customer_id (prepared data for RFM Clustering)"
   ]
  },
  {
   "cell_type": "code",
   "execution_count": null,
   "id": "cd4dca1b",
   "metadata": {},
   "outputs": [],
   "source": [
    "plt.scatter(x = rfm_customer['freq'], y = rfm_customer['recency'], alpha = 0.3)"
   ]
  },
  {
   "cell_type": "markdown",
   "id": "d77cc879",
   "metadata": {},
   "source": [
    "> there is no linear relationship"
   ]
  },
  {
   "cell_type": "code",
   "execution_count": null,
   "id": "0da0a3f7",
   "metadata": {},
   "outputs": [],
   "source": [
    "plt.scatter(x = rfm_customer['freq'], y = rfm_customer['monetary'], alpha = 0.3)"
   ]
  },
  {
   "cell_type": "markdown",
   "id": "80d11387",
   "metadata": {},
   "source": [
    "> there is a powerful linear relationship"
   ]
  },
  {
   "cell_type": "code",
   "execution_count": null,
   "id": "d2c2e708",
   "metadata": {},
   "outputs": [],
   "source": [
    "rfm_customer[['freq', 'monetary']].corr(method = 'pearson')  # Pearson correlation"
   ]
  },
  {
   "cell_type": "code",
   "execution_count": null,
   "id": "0800b1e8",
   "metadata": {},
   "outputs": [],
   "source": [
    "# We hold just F and R in the dataframe\n",
    "rfm_customer_2 = rfm_customer[['freq', 'recency']]  # remove 'monetary' from Clustering because of powerful correlation\n",
    "rfm_customer_2  # we will Cluster customers based-on these two features"
   ]
  },
  {
   "cell_type": "code",
   "execution_count": null,
   "id": "2caefb3b",
   "metadata": {},
   "outputs": [],
   "source": [
    "# Scale features\n",
    "from sklearn.preprocessing import StandardScaler\n",
    "scaled_data = StandardScaler().fit_transform(rfm_customer_2)  # Z-Normalization\n",
    "scaled_data"
   ]
  },
  {
   "cell_type": "code",
   "execution_count": null,
   "id": "09d6b55e",
   "metadata": {},
   "outputs": [],
   "source": [
    "scaled_data = pd.DataFrame(scaled_data, \n",
    "                           columns = rfm_customer_2.columns,\n",
    "                           index = rfm_customer_2.index)\n",
    "scaled_data"
   ]
  },
  {
   "cell_type": "markdown",
   "id": "0ec63521",
   "metadata": {},
   "source": [
    "# Clustering\n",
    "## Model 1: K-Means Clustering"
   ]
  },
  {
   "cell_type": "code",
   "execution_count": null,
   "id": "53aa777a",
   "metadata": {},
   "outputs": [],
   "source": [
    "# First try\n",
    "from sklearn.cluster import KMeans\n",
    "seg_km1 = KMeans(n_clusters = 5, init = 'random', random_state = 123, n_init = 1).fit(scaled_data)"
   ]
  },
  {
   "cell_type": "code",
   "execution_count": null,
   "id": "0c6cfbc5",
   "metadata": {},
   "outputs": [],
   "source": [
    "rfm_customer['seg_km1'] = seg_km1.predict(scaled_data)  # label Cluster of each datapoint\n",
    "rfm_customer"
   ]
  },
  {
   "cell_type": "code",
   "execution_count": null,
   "id": "747f8b38",
   "metadata": {},
   "outputs": [],
   "source": [
    "# Results of Clustering\n",
    "rfm_customer.groupby(['seg_km1'])[['freq', 'recency', 'monetary']].mean()\n",
    "\n",
    "# calculate mean of different Customer Segments in freq, recency and monetary in 4-months"
   ]
  },
  {
   "cell_type": "markdown",
   "id": "f74d0813",
   "metadata": {},
   "source": [
    "> The Cluster with label 2 is our loyal customers\n",
    "> * purchase 16 times in past 4-months\n",
    "> * last purchase was 10 days ago\n",
    "> * purchase 546,000 Tomans in past 4-months"
   ]
  },
  {
   "cell_type": "code",
   "execution_count": null,
   "id": "7ce9b138",
   "metadata": {},
   "outputs": [],
   "source": [
    "# Give sense about distribution of our Clusters\n",
    "plt.scatter(x = rfm_customer['freq'], y = rfm_customer['recency'], c = rfm_customer['seg_km1'], alpha = 0.3)\n",
    "plt.xlabel('freq')\n",
    "plt.ylabel('recency')"
   ]
  },
  {
   "cell_type": "code",
   "execution_count": null,
   "id": "83af7ce4",
   "metadata": {},
   "outputs": [],
   "source": [
    "# Second try\n",
    "seg_km2 = KMeans(n_clusters = 5, init = 'random', random_state = 1000, n_init = 1).fit(scaled_data)"
   ]
  },
  {
   "cell_type": "code",
   "execution_count": null,
   "id": "32f845da",
   "metadata": {},
   "outputs": [],
   "source": [
    "rfm_customer['seg_km2'] = seg_km2.predict(scaled_data)\n",
    "rfm_customer"
   ]
  },
  {
   "cell_type": "markdown",
   "id": "86dbdfb1",
   "metadata": {},
   "source": [
    "> **Note**: the Cluster labels are not important; the Cluster attributes are important"
   ]
  },
  {
   "cell_type": "code",
   "execution_count": null,
   "id": "58ebbf3a",
   "metadata": {},
   "outputs": [],
   "source": [
    "# Results of Clustering\n",
    "rfm_customer.groupby(['seg_km2'])[['freq', 'recency', 'monetary']].mean()"
   ]
  },
  {
   "cell_type": "markdown",
   "id": "8c7bc5f4",
   "metadata": {},
   "source": [
    "> The Cluster with label 2 is our loyal customers\n",
    "> * purchase 11 times in past 4-months\n",
    "> * last purchase was 10 days ago\n",
    "> * purchase 399,000 Tomans in past 4-months"
   ]
  },
  {
   "cell_type": "code",
   "execution_count": null,
   "id": "29656a38",
   "metadata": {},
   "outputs": [],
   "source": [
    "# Give sense about distribution of our Clusters\n",
    "plt.scatter(x = rfm_customer['freq'], y = rfm_customer['recency'], c = rfm_customer['seg_km2'], alpha = 0.3)\n",
    "plt.xlabel('freq')\n",
    "plt.ylabel('recency')"
   ]
  },
  {
   "cell_type": "markdown",
   "id": "4a67bc29",
   "metadata": {},
   "source": [
    "> The Clusters are changed fundamentally (the boundaries are moved completely); so, our Clustering was not Robust!"
   ]
  },
  {
   "cell_type": "markdown",
   "id": "f4827531",
   "metadata": {},
   "source": [
    "## Model 2: K-Means++ Clustering"
   ]
  },
  {
   "cell_type": "code",
   "execution_count": null,
   "id": "f45edd99",
   "metadata": {},
   "outputs": [],
   "source": [
    "# First try\n",
    "seg_km3 = KMeans(n_clusters = 5, init = 'k-means++', random_state = 1000, n_init = 15).fit(scaled_data)"
   ]
  },
  {
   "cell_type": "code",
   "execution_count": null,
   "id": "71db604f",
   "metadata": {},
   "outputs": [],
   "source": [
    "rfm_customer['seg_km3'] = seg_km3.predict(scaled_data)\n",
    "rfm_customer"
   ]
  },
  {
   "cell_type": "code",
   "execution_count": null,
   "id": "6064e878",
   "metadata": {},
   "outputs": [],
   "source": [
    "# Results of Clustering\n",
    "rfm_customer.groupby(['seg_km3'])[['freq', 'recency', 'monetary']].mean()"
   ]
  },
  {
   "cell_type": "code",
   "execution_count": null,
   "id": "eae89bd0",
   "metadata": {},
   "outputs": [],
   "source": [
    "plt.scatter(x = rfm_customer['freq'], y = rfm_customer['recency'], c = rfm_customer['seg_km3'], alpha = 0.3)\n",
    "plt.xlabel('freq')\n",
    "plt.ylabel('recency')"
   ]
  },
  {
   "cell_type": "code",
   "execution_count": null,
   "id": "fb24f2bd",
   "metadata": {},
   "outputs": [],
   "source": [
    "# Second try\n",
    "seg_km4 = KMeans(n_clusters = 5, init = 'k-means++', random_state = 1234, n_init = 15).fit(scaled_data)"
   ]
  },
  {
   "cell_type": "code",
   "execution_count": null,
   "id": "ac56739d",
   "metadata": {},
   "outputs": [],
   "source": [
    "rfm_customer['seg_km4'] = seg_km4.predict(scaled_data)\n",
    "rfm_customer"
   ]
  },
  {
   "cell_type": "code",
   "execution_count": null,
   "id": "fd1efb2e",
   "metadata": {},
   "outputs": [],
   "source": [
    "# Results of Clustering\n",
    "rfm_customer.groupby(['seg_km4'])[['freq', 'recency', 'monetary']].mean()"
   ]
  },
  {
   "cell_type": "markdown",
   "id": "dca5a5bb",
   "metadata": {},
   "source": [
    "> same Results with **'First try'**"
   ]
  },
  {
   "cell_type": "code",
   "execution_count": null,
   "id": "f292abdf",
   "metadata": {},
   "outputs": [],
   "source": [
    "plt.scatter(x = rfm_customer['freq'], y = rfm_customer['recency'], c = rfm_customer['seg_km4'], alpha = 0.3)\n",
    "plt.xlabel('freq')\n",
    "plt.ylabel('recency')"
   ]
  },
  {
   "cell_type": "markdown",
   "id": "ef7200f1",
   "metadata": {},
   "source": [
    "# Optimal Number of Clusters\n",
    "## Elbow method"
   ]
  },
  {
   "cell_type": "code",
   "execution_count": null,
   "id": "fa4ebbcc",
   "metadata": {},
   "outputs": [],
   "source": [
    "sse = []\n",
    "for n in range(1, 8):  # n is Number of Clusters\n",
    "    kmeans = KMeans(n_clusters = n,\n",
    "                    init = 'k-means++',\n",
    "                    random_state = 1234,\n",
    "                    n_init = 10)  # do Clustering 7 times per each Number of Clusters\n",
    "    kmeans.fit(scaled_data)\n",
    "    sse.append(kmeans.inertia_)"
   ]
  },
  {
   "cell_type": "code",
   "execution_count": null,
   "id": "d31c67af",
   "metadata": {},
   "outputs": [],
   "source": [
    "plt.plot(range(1, 8), sse)\n",
    "plt.xticks(range(1, 8))\n",
    "plt.xlabel('Number of Clusters')\n",
    "plt.ylabel('Total within Sum of Squares Error')\n",
    "plt.show()\n",
    "\n",
    "# the less SSE is better"
   ]
  },
  {
   "cell_type": "markdown",
   "id": "c822e5e3",
   "metadata": {},
   "source": [
    "> 6 Clusters is good"
   ]
  },
  {
   "cell_type": "markdown",
   "id": "d1999980",
   "metadata": {},
   "source": [
    "## Average Silhouette Coefficient"
   ]
  },
  {
   "cell_type": "code",
   "execution_count": null,
   "id": "f4601aa4",
   "metadata": {},
   "outputs": [],
   "source": [
    "from sklearn.metrics import silhouette_score\n",
    "\n",
    "silhouette_coefficients = []\n",
    "for n in range(2, 8):  # we should have at-least 2 Clusters in Silhouette\n",
    "    kmeans = KMeans(n_clusters = n,\n",
    "                    init = 'k-means++',\n",
    "                    random_state = 1234,\n",
    "                    n_init = 10)  # do Clustering 6 times per each Number of Clusters\n",
    "    kmeans.fit(scaled_data)\n",
    "    score = silhouette_score(scaled_data, kmeans.labels_)\n",
    "    silhouette_coefficients.append(score)"
   ]
  },
  {
   "cell_type": "code",
   "execution_count": null,
   "id": "3c279da9",
   "metadata": {},
   "outputs": [],
   "source": [
    "plt.plot(range(2, 8), silhouette_coefficients)\n",
    "plt.xticks(range(2, 8))\n",
    "plt.xlabel('Number of Clusters')\n",
    "plt.ylabel('Silhouette Coefficient')\n",
    "plt.show()\n",
    "\n",
    "# the more Silhouette score is better"
   ]
  },
  {
   "cell_type": "markdown",
   "id": "cd2a15e4",
   "metadata": {},
   "source": [
    "> 3 Clusters is good (based-on mathematical reasons)\n",
    "\n",
    "> 4 Clusters is good (based-on applied reasons)"
   ]
  }
 ],
 "metadata": {
  "kernelspec": {
   "display_name": "Python 3 (ipykernel)",
   "language": "python",
   "name": "python3"
  },
  "language_info": {
   "codemirror_mode": {
    "name": "ipython",
    "version": 3
   },
   "file_extension": ".py",
   "mimetype": "text/x-python",
   "name": "python",
   "nbconvert_exporter": "python",
   "pygments_lexer": "ipython3",
   "version": "3.10.5"
  }
 },
 "nbformat": 4,
 "nbformat_minor": 5
}
